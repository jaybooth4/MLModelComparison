{
 "cells": [
  {
   "cell_type": "code",
   "execution_count": 1,
   "metadata": {},
   "outputs": [],
   "source": [
    "import numpy as np\n",
    "from sklearn.model_selection import train_test_split\n",
    "from sklearn.metrics import accuracy_score\n",
    "from collections import defaultdict\n",
    "import operator\n",
    "import time"
   ]
  },
  {
   "cell_type": "code",
   "execution_count": 2,
   "metadata": {},
   "outputs": [],
   "source": [
    "# Generate Data\n",
    "mean1 = [0,0]\n",
    "cov1 = [[1,0],[0,1]]\n",
    "dataSize1 = 20\n",
    "gauss1 = np.random.multivariate_normal(mean1, cov1, dataSize1)\n",
    "labels1 = np.full(dataSize1, 1)\n",
    "\n",
    "mean2 = [2,2]\n",
    "cov2 = [[1,0],[0,1]]\n",
    "dataSize2 = 20\n",
    "gauss2 = np.random.multivariate_normal(mean2, cov2, dataSize2)\n",
    "labels2 = np.full(dataSize1, 2)\n",
    "\n",
    "dataset = np.concatenate((gauss1, gauss2), axis=0)\n",
    "labels = np.concatenate((labels1, labels2), axis=0)"
   ]
  },
  {
   "cell_type": "code",
   "execution_count": 3,
   "metadata": {},
   "outputs": [],
   "source": [
    "# Split into test/train\n",
    "data_train, data_test, labels_train, labels_test = train_test_split(dataset, labels, test_size=0.20, random_state=42)"
   ]
  },
  {
   "cell_type": "code",
   "execution_count": 4,
   "metadata": {},
   "outputs": [],
   "source": [
    "class KNNModel:\n",
    "    \n",
    "    def __init__(self, k):\n",
    "        self.k = k\n",
    "        self.trainData = None\n",
    "        self.trainLabels = None\n",
    "    \n",
    "    def train(self, trainData, trainLabels):\n",
    "        start_time = time.time()\n",
    "        self.trainData = trainData\n",
    "        self.trainLabels = trainLabels\n",
    "        return time.time() - start_time\n",
    "        \n",
    "    def test(self, testData, testLabels):\n",
    "        if self.trainData is None:\n",
    "            raise RunTimeError('You must train the model before testing')\n",
    "            \n",
    "        start_time = time.time()\n",
    "        predictions = list(map(lambda testDataPoint: KNN(self.trainData, self.trainLabels, testDataPoint, self.k), testData))\n",
    "        accuracy = accuracy_score(testLabels.tolist(), predictions)\n",
    "        timing = time.time() - start_time\n",
    "        return accuracy, timing"
   ]
  },
  {
   "cell_type": "code",
   "execution_count": 5,
   "metadata": {},
   "outputs": [],
   "source": [
    "def DistanceMeasure(datapoint1, datapoint2):\n",
    "    return np.linalg.norm(datapoint1-datapoint2)"
   ]
  },
  {
   "cell_type": "code",
   "execution_count": 6,
   "metadata": {},
   "outputs": [],
   "source": [
    "def KNNDistancesAndLabels(trainingData, trainingLabels, testDatapoint, k):\n",
    "    distances = list(map(lambda x: DistanceMeasure(x, testDatapoint), trainingData))\n",
    "    # Get the sorted indicies of the distances\n",
    "    indiciesOfSortedDistances = np.argsort(distances)\n",
    "    kShortestDistances = [distances[ii] for ii in indiciesOfSortedDistances[:k]]\n",
    "    kShortestLabels = [trainingLabels[ii] for ii in indiciesOfSortedDistances[:k]]\n",
    "    return list(zip(kShortestLabels, kShortestDistances))"
   ]
  },
  {
   "cell_type": "code",
   "execution_count": 7,
   "metadata": {},
   "outputs": [],
   "source": [
    "def KNNDecision(labelsAndDistances):\n",
    "    labelsDictionary = defaultdict(int)\n",
    "    for (label, distance) in labelsAndDistances:\n",
    "        labelsDictionary[label] += distance\n",
    "    sortedLabelsAndDistances = sorted(labelsDictionary.items(), key=operator.itemgetter(1))\n",
    "    shortestLabelAndDistance = sortedLabelsAndDistances[0]\n",
    "    return shortestLabelAndDistance[0]"
   ]
  },
  {
   "cell_type": "code",
   "execution_count": 8,
   "metadata": {},
   "outputs": [],
   "source": [
    "# Gets the incidies of the k nearest neighbors\n",
    "def KNN(trainingData, trainingLabels, testDatapoint, k):\n",
    "    labelsAndDistances = KNNDistancesAndLabels(trainingData, trainingLabels, testDatapoint, k)\n",
    "    return KNNDecision(labelsAndDistances)"
   ]
  },
  {
   "cell_type": "code",
   "execution_count": 9,
   "metadata": {},
   "outputs": [
    {
     "name": "stdout",
     "output_type": "stream",
     "text": [
      "0.0\n",
      "(0.625, 0.00400090217590332)\n"
     ]
    }
   ],
   "source": [
    "model = KNNModel(3)\n",
    "print(model.train(data_train, labels_train))\n",
    "print(model.test(data_test, labels_test))"
   ]
  },
  {
   "cell_type": "code",
   "execution_count": null,
   "metadata": {},
   "outputs": [],
   "source": []
  },
  {
   "cell_type": "code",
   "execution_count": null,
   "metadata": {},
   "outputs": [],
   "source": []
  }
 ],
 "metadata": {
  "kernelspec": {
   "display_name": "Python 3",
   "language": "python",
   "name": "python3"
  },
  "language_info": {
   "codemirror_mode": {
    "name": "ipython",
    "version": 3
   },
   "file_extension": ".py",
   "mimetype": "text/x-python",
   "name": "python",
   "nbconvert_exporter": "python",
   "pygments_lexer": "ipython3",
   "version": "3.6.4"
  }
 },
 "nbformat": 4,
 "nbformat_minor": 2
}
