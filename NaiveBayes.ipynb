{
 "cells": [
  {
   "cell_type": "code",
   "execution_count": 1,
   "metadata": {},
   "outputs": [],
   "source": [
    "import numpy as np\n",
    "from sklearn.model_selection import train_test_split\n",
    "from scipy.stats import multivariate_normal\n",
    "from sklearn.metrics import accuracy_score\n",
    "from collections import defaultdict\n",
    "from scipy.stats import norm\n",
    "import operator\n",
    "import time"
   ]
  },
  {
   "cell_type": "code",
   "execution_count": 14,
   "metadata": {},
   "outputs": [],
   "source": [
    "# Generate Data\n",
    "mean1 = [0,0]\n",
    "cov1 = [[1,0],[0,1]]\n",
    "dataSize1 = 20\n",
    "gauss1 = np.random.multivariate_normal(mean1, cov1, dataSize1)\n",
    "labels1 = np.full(dataSize1, 1)\n",
    "\n",
    "mean2 = [2,2]\n",
    "cov2 = [[1,0],[0,1]]\n",
    "dataSize2 = 20\n",
    "gauss2 = np.random.multivariate_normal(mean2, cov2, dataSize2)\n",
    "labels2 = np.full(dataSize1, 2)\n",
    "\n",
    "dataset = np.concatenate((gauss1, gauss2), axis=0)\n",
    "labels = np.concatenate((labels1, labels2), axis=0)"
   ]
  },
  {
   "cell_type": "code",
   "execution_count": 3,
   "metadata": {},
   "outputs": [],
   "source": [
    "# Split into test/train\n",
    "data_train, data_test, labels_train, labels_test = train_test_split(dataset, labels, test_size=0.20, random_state=42)"
   ]
  },
  {
   "cell_type": "code",
   "execution_count": null,
   "metadata": {},
   "outputs": [],
   "source": []
  },
  {
   "cell_type": "code",
   "execution_count": 5,
   "metadata": {},
   "outputs": [],
   "source": [
    "class FeatureDistribution:\n",
    "    def __init__(self, mu, sigma):\n",
    "        self.mu = mu\n",
    "        self.sigma = sigma"
   ]
  },
  {
   "cell_type": "code",
   "execution_count": 6,
   "metadata": {},
   "outputs": [],
   "source": [
    "class TrainingDataDistributions:\n",
    "    def __init__(self):\n",
    "        self.labelsDistributions = {}\n",
    "        \n",
    "    def addLabelDistribution(self, label, distributions):\n",
    "        self.labelsDistributions[label] = distributions\n",
    "\n",
    "    def getLabelProbabilities(self, datapoint):\n",
    "        posteriorProbabilities = {}\n",
    "        for label in self.labelsDistributions.keys():\n",
    "            posteriorProbabilities[label] = CalculatePointProbabilityGivenDistributions(datapoint, self.labelsDistributions[label])\n",
    "        return posteriorProbabilities"
   ]
  },
  {
   "cell_type": "code",
   "execution_count": 7,
   "metadata": {},
   "outputs": [],
   "source": [
    "class NaiveBayesModel:\n",
    "\n",
    "    def __init__(self):\n",
    "        self.trainingDataDistributions = None\n",
    "    \n",
    "    def train(self, trainData, trainLabels):\n",
    "        start_time = time.time()\n",
    "        self.trainingDataDistributions = CalculateTrainingDataDistributions(trainData, trainLabels)\n",
    "        return time.time() - start_time\n",
    "        \n",
    "    def test(self, testData, testLabels):\n",
    "        if self.trainingDataDistributions is None:\n",
    "            raise RunTimeError('You must train the model before testing')\n",
    "            \n",
    "        start_time = time.time()\n",
    "        predictions = list(map(lambda testDatapoint:  NaiveBayes(self.trainingDataDistributions, testDatapoint), testData))\n",
    "        accuracy = accuracy_score(testLabels.tolist(), predictions)\n",
    "        timing = time.time() - start_time\n",
    "        return accuracy, timing"
   ]
  },
  {
   "cell_type": "code",
   "execution_count": 8,
   "metadata": {},
   "outputs": [],
   "source": [
    "def CalculateTrainingDataDistributions(data, labels):\n",
    "    labelsDistributions = TrainingDataDistributions()\n",
    "    for label in set(labels):\n",
    "        labelData = data[np.where(labels == label)] \n",
    "        labelDistributions = CalculateLabelDistributions(labelData)\n",
    "        labelsDistributions.addLabelDistribution(label, labelDistributions)\n",
    "    return labelsDistributions"
   ]
  },
  {
   "cell_type": "code",
   "execution_count": 9,
   "metadata": {},
   "outputs": [],
   "source": [
    "def CalculateLabelDistributions(labelData):\n",
    "    labelDistributions = []\n",
    "    for featureIndex in range(np.shape(labelData)[1]): # For each feature\n",
    "        featureDistribution = CalculateDistributionForFeature(labelData[:,featureIndex])\n",
    "        labelDistributions.append(featureDistribution)\n",
    "    return labelDistributions"
   ]
  },
  {
   "cell_type": "code",
   "execution_count": 10,
   "metadata": {},
   "outputs": [],
   "source": [
    "def CalculateDistributionForFeature(data):\n",
    "    mu = np.mean(data)\n",
    "    sigma = np.cov(data)\n",
    "    return FeatureDistribution(mu, sigma)"
   ]
  },
  {
   "cell_type": "code",
   "execution_count": 11,
   "metadata": {},
   "outputs": [],
   "source": [
    "def CalculatePointProbabilityGivenDistributions(datapoint, distributions):\n",
    "    totalProbability = 1\n",
    "    for featureIndex, feature in enumerate(datapoint):\n",
    "        distribution = distributions[featureIndex]\n",
    "        featureProbability = norm.pdf(datapoint[featureIndex], distribution.mu, distribution.sigma)\n",
    "        totalProbability = totalProbability * featureProbability\n",
    "    return totalProbability"
   ]
  },
  {
   "cell_type": "code",
   "execution_count": 12,
   "metadata": {},
   "outputs": [],
   "source": [
    "def NaiveBayes(labelsDistributions, datapoint):\n",
    "    posteriorProbabilities = labelsDistributions.getLabelProbabilities(datapoint)\n",
    "    posteriorProbabilitiesSorted = sorted(posteriorProbabilities.items(), key=operator.itemgetter(1), reverse=True)\n",
    "    biggestLabelAndProbability = posteriorProbabilitiesSorted[0]\n",
    "    bestLabel = biggestLabelAndProbability[0]\n",
    "    return bestLabel"
   ]
  },
  {
   "cell_type": "code",
   "execution_count": 13,
   "metadata": {},
   "outputs": [
    {
     "name": "stdout",
     "output_type": "stream",
     "text": [
      "0.001001596450805664\n",
      "(0.375, 0.014000177383422852)\n"
     ]
    }
   ],
   "source": [
    "model = NaiveBayesModel()\n",
    "print(model.train(data_train, labels_train))\n",
    "print(model.test(data_test, labels_test))"
   ]
  },
  {
   "cell_type": "code",
   "execution_count": null,
   "metadata": {},
   "outputs": [],
   "source": []
  },
  {
   "cell_type": "code",
   "execution_count": null,
   "metadata": {},
   "outputs": [],
   "source": []
  },
  {
   "cell_type": "code",
   "execution_count": null,
   "metadata": {},
   "outputs": [],
   "source": []
  }
 ],
 "metadata": {
  "kernelspec": {
   "display_name": "Python 3",
   "language": "python",
   "name": "python3"
  },
  "language_info": {
   "codemirror_mode": {
    "name": "ipython",
    "version": 3
   },
   "file_extension": ".py",
   "mimetype": "text/x-python",
   "name": "python",
   "nbconvert_exporter": "python",
   "pygments_lexer": "ipython3",
   "version": "3.5.5"
  }
 },
 "nbformat": 4,
 "nbformat_minor": 2
}
