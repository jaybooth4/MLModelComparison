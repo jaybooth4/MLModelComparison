{
 "cells": [
  {
   "cell_type": "code",
   "execution_count": 1,
   "metadata": {},
   "outputs": [],
   "source": [
    "from sklearn.model_selection import train_test_split\n",
    "from scipy.stats import multivariate_normal\n",
    "from sklearn.metrics import accuracy_score\n",
    "from collections import defaultdict\n",
    "from scipy.stats import norm\n",
    "import matplotlib.pyplot as plt\n",
    "import operator\n",
    "import time\n",
    "import numpy as np\n",
    "np.random.seed(1)"
   ]
  },
  {
   "cell_type": "markdown",
   "metadata": {},
   "source": [
    "# Generate Data"
   ]
  },
  {
   "cell_type": "code",
   "execution_count": 2,
   "metadata": {},
   "outputs": [],
   "source": [
    "percentageTest = .2 # percentage of dataset to be designated as the test data\n",
    "\n",
    "# Function to return gaussian data with given means, covariances, and number of points per class\n",
    "# Returns 4 parameters: trainingData, testingData, trainingLabels, testingLabels\n",
    "def generateGaussianData(mean1, mean2, cov1, cov2, pointsPerLabel):\n",
    "    gauss1 = np.random.multivariate_normal(mean1, cov1, pointsPerLabel)\n",
    "    labels1 = np.full(pointsPerLabel, -1, dtype=np.float64)\n",
    "    gauss2 = np.random.multivariate_normal(mean2, cov2, pointsPerLabel)\n",
    "    labels2 = np.full(pointsPerLabel, 1, dtype=np.float64)\n",
    "\n",
    "    dataset = np.concatenate((gauss1, gauss2), axis=0)\n",
    "    labels = np.concatenate((labels1, labels2), axis=0)\n",
    "    \n",
    "    plotRawData(dataset, labels)\n",
    "\n",
    "    return train_test_split(dataset, labels, test_size=percentageTest, random_state=42)"
   ]
  },
  {
   "cell_type": "code",
   "execution_count": 3,
   "metadata": {},
   "outputs": [],
   "source": [
    "# Function to plot the raw data\n",
    "def plotRawData(dataset, labels):\n",
    "    feature1 = dataset[:, 0]\n",
    "    feature2 = dataset[:, 1]\n",
    "    plt.scatter(feature1, feature2, c=labels, cmap=plt.cm.coolwarm, s=20)\n",
    "    plt.xlabel('Feature 1')\n",
    "    plt.ylabel('Feature 2')\n",
    "    plt.title(\"Raw Data\")"
   ]
  },
  {
   "cell_type": "code",
   "execution_count": 4,
   "metadata": {},
   "outputs": [
    {
     "data": {
      "image/png": "[encoded data removed]",
      "text/plain": [
       "<Figure size 432x288 with 1 Axes>"
      ]
     },
     "metadata": {},
     "output_type": "display_data"
    }
   ],
   "source": [
    "# Generate Gaussian data\n",
    "mean1 = [0,0]\n",
    "cov1 = [[1,0],[0,1]]\n",
    "mean2 = [3,3]\n",
    "cov2 = [[1,0],[0,1]]\n",
    "dataSize = 50\n",
    "trainingData, testingData, trainingLabels, testingLabels = generateGaussianData(mean1, mean2, cov1, cov2, dataSize)"
   ]
  },
  {
   "cell_type": "markdown",
   "metadata": {},
   "source": [
    "# Naive Bayes\n",
    "### Naive Bayes Implementation using:\n",
    "- Parameters for each feature within a label are independent of other features\n",
    "- Assumes continuous input and normal densities"
   ]
  },
  {
   "cell_type": "code",
   "execution_count": 5,
   "metadata": {},
   "outputs": [],
   "source": [
    "# Class representing a distribution of a single feature within a class label\n",
    "class FeatureDistribution:\n",
    "    def __init__(self, mu, sigma):\n",
    "        self.mu = mu\n",
    "        self.sigma = sigma"
   ]
  },
  {
   "cell_type": "code",
   "execution_count": 6,
   "metadata": {},
   "outputs": [],
   "source": [
    "# Class to hold all label and feature distribution information for the training data\n",
    "class DataDistributions:\n",
    "    def __init__(self):\n",
    "        self.labelsDistributions = {} # dictionary to store feature distribution information for each label\n",
    "        \n",
    "    # Adds distribution information for a label\n",
    "    def addLabelDistribution(self, label, distributions):\n",
    "        self.labelsDistributions[label] = distributions\n",
    "\n",
    "    # For a given datapoint, calculates the probabilities for a datapoint belonging to each label\n",
    "    # Returns a dictionary of labels to probabilities\n",
    "    def getLabelProbabilities(self, datapoint):\n",
    "        labelProbabilities = {}\n",
    "        for label in self.labelsDistributions.keys():\n",
    "            labelProbabilities[label] = CalculatePointProbabilityGivenDistributions(datapoint, self.labelsDistributions[label])\n",
    "        return labelProbabilities"
   ]
  },
  {
   "cell_type": "code",
   "execution_count": 7,
   "metadata": {},
   "outputs": [],
   "source": [
    "class NaiveBayesModel:\n",
    "\n",
    "    def __init__(self):\n",
    "        self.dataDistributions = None\n",
    "    \n",
    "    # Calculate label distributions\n",
    "    def train(self, trainData, trainLabels):\n",
    "        self.dataDistributions = CalculateDataDistributions(trainData, trainLabels)\n",
    "        \n",
    "    def test(self, testData, testLabels):\n",
    "        if self.dataDistributions is None:\n",
    "            raise RunTimeError('You must train the model before testing')\n",
    "            \n",
    "        predictions = list(map(lambda testDatapoint:  NaiveBayes(self.dataDistributions, testDatapoint), testData))\n",
    "        accuracy = accuracy_score(testLabels.tolist(), predictions)\n",
    "        return accuracy"
   ]
  },
  {
   "cell_type": "code",
   "execution_count": 16,
   "metadata": {},
   "outputs": [],
   "source": [
    "# Applies Naive Bayes algorithm for a specific datapoint\n",
    "# Returns best label for the given point\n",
    "def NaiveBayes(labelsDistributions, datapoint):\n",
    "    labelProbabilities = labelsDistributions.getLabelProbabilities(datapoint)\n",
    "    # Sort by probabilities\n",
    "    labelProbabilitiesSorted = sorted(labelProbabilities.items(), key=operator.itemgetter(1), reverse=True)\n",
    "    biggestLabelAndProbability = labelProbabilitiesSorted[0]\n",
    "    bestLabel = biggestLabelAndProbability[0]\n",
    "    return bestLabel"
   ]
  },
  {
   "cell_type": "code",
   "execution_count": 9,
   "metadata": {},
   "outputs": [],
   "source": [
    "# Calculate data distributions for each label\n",
    "# Returns a DataDistributions object\n",
    "def CalculateDataDistributions(data, labels):\n",
    "    labelsDistributions = DataDistributions()\n",
    "    for label in set(labels):\n",
    "        labelData = data[np.where(labels == label)] \n",
    "        labelDistributions = CalculateLabelDistributions(labelData)\n",
    "        labelsDistributions.addLabelDistribution(label, labelDistributions)\n",
    "    return labelsDistributions"
   ]
  },
  {
   "cell_type": "code",
   "execution_count": 10,
   "metadata": {},
   "outputs": [],
   "source": [
    "# Calculate distributions for a given label\n",
    "# Returns list of FeatureDistribution objects\n",
    "def CalculateLabelDistributions(labelData):\n",
    "    labelDistributions = []\n",
    "    for featureIndex in range(np.shape(labelData)[1]): # For each feature\n",
    "        featureDistribution = CalculateDistributionForFeature(labelData[:,featureIndex])\n",
    "        labelDistributions.append(featureDistribution)\n",
    "    return labelDistributions"
   ]
  },
  {
   "cell_type": "code",
   "execution_count": 11,
   "metadata": {},
   "outputs": [],
   "source": [
    "# Calculates feature distribution for the given data\n",
    "# If this were categorical data, this function could be replaced by one that calculates probability based on counts\n",
    "# Returns FeatureDistribution object\n",
    "def CalculateDistributionForFeature(data):\n",
    "    mu = np.mean(data)\n",
    "    sigma = np.var(data)\n",
    "    return FeatureDistribution(mu, sigma)"
   ]
  },
  {
   "cell_type": "code",
   "execution_count": 12,
   "metadata": {},
   "outputs": [],
   "source": [
    "# Calculates the probability of a point given a list of distribution parameters\n",
    "# Returns probability\n",
    "def CalculatePointProbabilityGivenDistributions(datapoint, distributions):\n",
    "    totalProbability = 1\n",
    "    for featureIndex, feature in enumerate(datapoint):\n",
    "        distribution = distributions[featureIndex]\n",
    "        featureProbability = norm.pdf(datapoint[featureIndex], distribution.mu, distribution.sigma)\n",
    "        totalProbability = totalProbability * featureProbability\n",
    "    return totalProbability"
   ]
  },
  {
   "cell_type": "markdown",
   "metadata": {},
   "source": [
    "# Run The Model"
   ]
  },
  {
   "cell_type": "code",
   "execution_count": 18,
   "metadata": {},
   "outputs": [
    {
     "name": "stdout",
     "output_type": "stream",
     "text": [
      "1.0\n"
     ]
    }
   ],
   "source": [
    "model = NaiveBayesModel()\n",
    "model.train(trainingData, trainingLabels)\n",
    "print(model.test(testingData, testingLabels))"
   ]
  },
  {
   "cell_type": "code",
   "execution_count": null,
   "metadata": {},
   "outputs": [],
   "source": []
  },
  {
   "cell_type": "code",
   "execution_count": null,
   "metadata": {},
   "outputs": [],
   "source": []
  },
  {
   "cell_type": "code",
   "execution_count": null,
   "metadata": {},
   "outputs": [],
   "source": []
  }
 ],
 "metadata": {
  "kernelspec": {
   "display_name": "Python 3",
   "language": "python",
   "name": "python3"
  },
  "language_info": {
   "codemirror_mode": {
    "name": "ipython",
    "version": 3
   },
   "file_extension": ".py",
   "mimetype": "text/x-python",
   "name": "python",
   "nbconvert_exporter": "python",
   "pygments_lexer": "ipython3",
   "version": "3.5.5"
  }
 },
 "nbformat": 4,
 "nbformat_minor": 2
}
