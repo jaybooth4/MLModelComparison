{
 "cells": [
  {
   "cell_type": "markdown",
   "metadata": {},
   "source": [
    "### Just 2 classes at the moment"
   ]
  },
  {
   "cell_type": "code",
   "execution_count": 1,
   "metadata": {},
   "outputs": [],
   "source": [
    "import numpy as np\n",
    "from sklearn.model_selection import train_test_split\n",
    "from scipy.stats import multivariate_normal\n",
    "from sklearn.metrics import accuracy_score\n",
    "from collections import defaultdict\n",
    "from scipy.stats import norm\n",
    "import operator\n",
    "import time"
   ]
  },
  {
   "cell_type": "code",
   "execution_count": 2,
   "metadata": {},
   "outputs": [],
   "source": [
    "# Generate Data\n",
    "mean1 = [0]\n",
    "cov1 = [1]\n",
    "dataSize1 = 20\n",
    "gauss1 = np.random.normal(mean1, cov1, dataSize1)\n",
    "labels1 = np.full(dataSize1, 1)\n",
    "\n",
    "mean2 = [2]\n",
    "cov2 = [1]\n",
    "dataSize2 = 20\n",
    "gauss2 = np.random.normal(mean2, cov2, dataSize2)\n",
    "labels2 = np.full(dataSize1, 2)\n",
    "\n",
    "dataset = np.concatenate((gauss1, gauss2), axis=0)\n",
    "labels = np.concatenate((labels1, labels2), axis=0)"
   ]
  },
  {
   "cell_type": "code",
   "execution_count": 3,
   "metadata": {},
   "outputs": [],
   "source": [
    "# Split into test/train\n",
    "data_train, data_test, labels_train, labels_test = train_test_split(dataset, labels, test_size=0.20, random_state=42)"
   ]
  },
  {
   "cell_type": "code",
   "execution_count": 4,
   "metadata": {},
   "outputs": [],
   "source": [
    "class ClassDistribution:\n",
    "    def __init__(self, label, mu, sigma):\n",
    "        self.label = label\n",
    "        self.mu = mu\n",
    "        self.sigma = sigma"
   ]
  },
  {
   "cell_type": "code",
   "execution_count": 5,
   "metadata": {},
   "outputs": [],
   "source": [
    "class NaiveBayesModel:\n",
    "\n",
    "    def __init__(self):\n",
    "        self.classDistributions = None\n",
    "    \n",
    "    def train(self, trainData, trainLabels):\n",
    "        start_time = time.time()\n",
    "        self.classParams = CalculateAllClassParams(trainData, trainLabels)\n",
    "        return time.time() - start_time\n",
    "        \n",
    "    def test(self, testData, testLabels):\n",
    "        if self.classParams is None:\n",
    "            raise RunTimeError('You must train the model before testing')\n",
    "            \n",
    "        start_time = time.time()\n",
    "        predictions = list(map(lambda testDataPoint: NaiveBayes(self.classParams, testDataPoint), testData))\n",
    "        accuracy = accuracy_score(testLabels.tolist(), predictions)\n",
    "        timing = time.time() - start_time\n",
    "        return accuracy, timing"
   ]
  },
  {
   "cell_type": "code",
   "execution_count": 6,
   "metadata": {},
   "outputs": [],
   "source": [
    "def CalculateAllClassParams(data, labels):\n",
    "    classParams = []\n",
    "    for label in set(labels):\n",
    "        mu, sigma = CalculateParamsForClass([data[ii] for ii in np.where(labels == label)])\n",
    "        classParams.append(ClassDistribution(label, mu, sigma))\n",
    "    return classParams"
   ]
  },
  {
   "cell_type": "code",
   "execution_count": 7,
   "metadata": {},
   "outputs": [],
   "source": [
    "def CalculateParamsForClass(data):\n",
    "    mu = np.mean(data)\n",
    "    sigma = np.cov(data)\n",
    "    return mu, sigma"
   ]
  },
  {
   "cell_type": "code",
   "execution_count": 17,
   "metadata": {},
   "outputs": [],
   "source": [
    "def NaiveBayes(classParams, dataPoint):\n",
    "    posteriorProbabilities = {}\n",
    "    for classParam in classParams:\n",
    "        posteriorProbabilities[classParam.label] = norm.pdf(dataPoint, classParam.mu, classParam.sigma)\n",
    "    posteriorProbabilitiesSorted = sorted(posteriorProbabilities.items(), key=operator.itemgetter(1), reverse=True)\n",
    "    biggestLabelAndProbability = posteriorProbabilitiesSorted[0]\n",
    "    return biggestLabelAndProbability[0]"
   ]
  },
  {
   "cell_type": "code",
   "execution_count": 18,
   "metadata": {},
   "outputs": [
    {
     "name": "stdout",
     "output_type": "stream",
     "text": [
      "0.0\n",
      "(0.625, 0.002001047134399414)\n"
     ]
    }
   ],
   "source": [
    "model = NaiveBayesModel()\n",
    "print(model.train(data_train, labels_train))\n",
    "print(model.test(data_test, labels_test))"
   ]
  },
  {
   "cell_type": "code",
   "execution_count": null,
   "metadata": {},
   "outputs": [],
   "source": []
  },
  {
   "cell_type": "code",
   "execution_count": null,
   "metadata": {},
   "outputs": [],
   "source": []
  }
 ],
 "metadata": {
  "kernelspec": {
   "display_name": "Python 3",
   "language": "python",
   "name": "python3"
  },
  "language_info": {
   "codemirror_mode": {
    "name": "ipython",
    "version": 3
   },
   "file_extension": ".py",
   "mimetype": "text/x-python",
   "name": "python",
   "nbconvert_exporter": "python",
   "pygments_lexer": "ipython3",
   "version": "3.6.4"
  }
 },
 "nbformat": 4,
 "nbformat_minor": 2
}
