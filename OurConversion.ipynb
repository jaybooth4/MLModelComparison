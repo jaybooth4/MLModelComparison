{
 "cells": [
  {
   "cell_type": "code",
   "execution_count": 35,
   "metadata": {},
   "outputs": [
    {
     "name": "stdout",
     "output_type": "stream",
     "text": [
      "[[0. 0. 0. ... 0. 0. 0.]\n",
      " [0. 0. 0. ... 0. 0. 0.]]\n"
     ]
    },
    {
     "data": {
      "text/plain": [
       "'\\nthe prediction will be an array with four values,\\nwhich show the predicted number\\nprediction = tf.argmax(y,1)\\n\\nwe want to run the prediction and the accuracy function\\nusing our generated arrays (images and correct_vals)\\nprint sess.run(prediction, feed_dict={x: images, y_: correct_vals})\\nprint sess.run(accuracy, feed_dict={x: images, y_: correct_vals})\\n'"
      ]
     },
     "execution_count": 35,
     "metadata": {},
     "output_type": "execute_result"
    }
   ],
   "source": [
    "import numpy as np\n",
    "import tensorflow as tf\n",
    "import cv2\n",
    "import os\n",
    "# create an array where we can store our 2 pictures\n",
    "images = np.zeros((2,784))\n",
    "# and the correct values\n",
    "correct_vals = np.zeros((2,46))\n",
    "\n",
    "# we want to test our images which you saw at the top of this page\n",
    "i = 0\n",
    "labels = [14,32]\n",
    "\n",
    "for letter in [\"W\",\"E\"]:\n",
    "    # read the image\n",
    "    gray = cv2.imread(letter+\"duffy.png\", 0)\n",
    "    #print(gray)\n",
    "    #invert image\n",
    "    #gray = cv2.bitwise_not(gray)\n",
    "\n",
    "    _, gray = cv2.threshold(255-gray, 128, 255, cv2.THRESH_BINARY | cv2.THRESH_OTSU)\n",
    "    # resize the images\n",
    "    gray = cv2.resize(gray,(28, 28))\n",
    "    # save the processed images\n",
    "    cv2.imwrite(letter+\"duffyPRO.png\", gray)\n",
    "    \"\"\"\n",
    "    all images in the training set have an range from 0-1\n",
    "    and not from 0-255 so we divide our flatten images\n",
    "    (a one dimensional vector with our 784 pixels)\n",
    "    to use the same 0-1 based range\n",
    "    \"\"\"\n",
    "    flatten = gray.flatten() / 255.0\n",
    "    \"\"\"\n",
    "    we need to store the flatten image and generate\n",
    "    the correct_vals array\n",
    "    correct_val for the first digit (9) would be\n",
    "    [0,0,0,0,0,0,0,0,0,1]\n",
    "    \"\"\"\n",
    "    #print(len(images[i]))\n",
    "    #print(len(flatten))\n",
    "    images[i] = flatten\n",
    "    correct_val = np.zeros((46))\n",
    "    correct_val[labels[i]] = 1\n",
    "    correct_vals[i] = correct_val\n",
    "    i += 1\n",
    "\n",
    "print (images)\n",
    "\"\"\"\n",
    "the prediction will be an array with four values,\n",
    "which show the predicted number\n",
    "prediction = tf.argmax(y,1)\n",
    "\n",
    "we want to run the prediction and the accuracy function\n",
    "using our generated arrays (images and correct_vals)\n",
    "print sess.run(prediction, feed_dict={x: images, y_: correct_vals})\n",
    "print sess.run(accuracy, feed_dict={x: images, y_: correct_vals})\n",
    "\"\"\""
   ]
  },
  {
   "cell_type": "code",
   "execution_count": null,
   "metadata": {},
   "outputs": [],
   "source": []
  }
 ],
 "metadata": {
  "kernelspec": {
   "display_name": "Python 3",
   "language": "python",
   "name": "python3"
  },
  "language_info": {
   "codemirror_mode": {
    "name": "ipython",
    "version": 3
   },
   "file_extension": ".py",
   "mimetype": "text/x-python",
   "name": "python",
   "nbconvert_exporter": "python",
   "pygments_lexer": "ipython3",
   "version": "3.5.5"
  }
 },
 "nbformat": 4,
 "nbformat_minor": 2
}
