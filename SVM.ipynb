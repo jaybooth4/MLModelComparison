{
 "cells": [
  {
   "cell_type": "code",
   "execution_count": 1,
   "metadata": {},
   "outputs": [],
   "source": [
    "import numpy as np\n",
    "from sklearn.model_selection import train_test_split\n",
    "from sklearn.metrics import accuracy_score\n",
    "import time\n",
    "from cvxopt import matrix, solvers\n",
    "import matplotlib.pyplot as plt"
   ]
  },
  {
   "cell_type": "code",
   "execution_count": 2,
   "metadata": {},
   "outputs": [],
   "source": [
    "# Generate Data\n",
    "mean1 = [0,0]\n",
    "cov1 = [[1,0],[0,1]]\n",
    "dataSize1 = 20\n",
    "gauss1 = np.random.multivariate_normal(mean1, cov1, dataSize1)\n",
    "labels1 = np.full(dataSize1, -1, dtype=np.float64)\n",
    "\n",
    "mean2 = [3,3]\n",
    "cov2 = [[1,0],[0,1]]\n",
    "dataSize2 = 20\n",
    "gauss2 = np.random.multivariate_normal(mean2, cov2, dataSize2)\n",
    "labels2 = np.full(dataSize2, 1, dtype=np.float64)\n",
    "\n",
    "dataset = np.concatenate((gauss1, gauss2), axis=0)\n",
    "labels = np.concatenate((labels1, labels2), axis=0)\n",
    "\n",
    "data_train, data_test, labels_train, labels_test = train_test_split(dataset, labels, test_size=0.20, random_state=42)"
   ]
  },
  {
   "cell_type": "code",
   "execution_count": 3,
   "metadata": {},
   "outputs": [],
   "source": [
    "class HyperPlane:\n",
    "    def __init__(self, w, b):\n",
    "        self.w = w\n",
    "        self.b = b\n",
    "    \n",
    "    def calculatePointLabel(self, x):\n",
    "        return 1 if (np.dot(self.w, x) + self.b) > 0 else -1"
   ]
  },
  {
   "cell_type": "code",
   "execution_count": 4,
   "metadata": {},
   "outputs": [],
   "source": [
    "class SVMModel:\n",
    "    \n",
    "    def __init__(self):\n",
    "        pass\n",
    "    \n",
    "    def train(self, trainData, trainLabels):\n",
    "        start_time = time.time()\n",
    "        self.hyperplane = CalculateHyperplane(trainData, trainLabels)\n",
    "        return time.time() - start_time\n",
    "        \n",
    "    def test(self, testData, testLabels):\n",
    "        if self.hyperplane is None:\n",
    "            raise RunTimeError('You must train the model before testing')\n",
    "            \n",
    "        start_time = time.time()\n",
    "        predictions = list(map(lambda testDataPoint: SVM(self.hyperplane, testDataPoint), testData))\n",
    "        accuracy = accuracy_score(testLabels.tolist(), predictions)\n",
    "        timing = time.time() - start_time\n",
    "        return accuracy, timing"
   ]
  },
  {
   "cell_type": "markdown",
   "metadata": {},
   "source": [
    "$$\\begin{eqnarray}\n",
    "\\min_{x}\\frac{1}{2} x^{T}Px - q^{T}x \\nonumber \\\\\\\n",
    "\\textrm{s.t.}\\quad Gx \\preceq h \\\\\\\n",
    "\\textrm{and}\\quad Ax = b\n",
    "\\end{eqnarray}\n",
    "$$"
   ]
  },
  {
   "cell_type": "markdown",
   "metadata": {},
   "source": [
    "$$\\begin{eqnarray}\n",
    "\\min_{\\alpha}\\frac{1}{2} \\alpha^{T}K\\alpha - 1^{T}\\alpha \\nonumber \\\\\\\n",
    "\\textrm{s.t.}\\quad \\alpha_{i} \\ge 0 \\quad \\forall i \\\\\\\n",
    "\\textrm{and}\\quad y^{T}\\alpha = 0\n",
    "\\end{eqnarray}$$"
   ]
  },
  {
   "cell_type": "code",
   "execution_count": 5,
   "metadata": {},
   "outputs": [],
   "source": [
    "def CalculateHyperplane(trainData, trainLabels):\n",
    "    x = trainData\n",
    "    y = trainLabels\n",
    "    \n",
    "    NUM = x.shape[0]\n",
    "    DIM = x.shape[1]\n",
    "    K = y[:, None] * x\n",
    "    K = np.dot(K, K.T)\n",
    "   \n",
    "    P = matrix(K)\n",
    "    q = matrix(-np.ones((NUM, 1)))\n",
    "    G = matrix(-np.eye(NUM))\n",
    "    h = matrix(np.zeros(NUM))\n",
    "    A = matrix(y.reshape(1, -1))\n",
    "    b = matrix(np.zeros(1))\n",
    "    \n",
    "    solvers.options['show_progress'] = False\n",
    "    sol = solvers.qp(P, q, G, h, A, b)\n",
    "    alphas = np.array(sol['x'])\n",
    "    # get weights\n",
    "    w = np.sum(alphas * y[:, None] * x, axis = 0)\n",
    "    # get bias\n",
    "    cond = (alphas > 1e-4).reshape(-1)\n",
    "    b = y[cond] - np.dot(x[cond], w)\n",
    "    bias = b[0]\n",
    "    return HyperPlane(w, bias)"
   ]
  },
  {
   "cell_type": "code",
   "execution_count": null,
   "metadata": {},
   "outputs": [],
   "source": []
  },
  {
   "cell_type": "code",
   "execution_count": 6,
   "metadata": {},
   "outputs": [],
   "source": [
    "def SVM(hyperplane, datapoint):\n",
    "    label = hyperplane.calculatePointLabel(datapoint)\n",
    "    return label"
   ]
  },
  {
   "cell_type": "code",
   "execution_count": 7,
   "metadata": {},
   "outputs": [
    {
     "name": "stdout",
     "output_type": "stream",
     "text": [
      "0.010006427764892578\n",
      "(1.0, 0.0)\n"
     ]
    }
   ],
   "source": [
    "svmModel = SVMModel()\n",
    "print(svmModel.train(data_train, labels_train))\n",
    "print(svmModel.test(data_test, labels_test))"
   ]
  },
  {
   "cell_type": "code",
   "execution_count": 8,
   "metadata": {},
   "outputs": [
    {
     "data": {
      "text/plain": [
       "[<matplotlib.lines.Line2D at 0x19717cb4470>]"
      ]
     },
     "execution_count": 8,
     "metadata": {},
     "output_type": "execute_result"
    },
    {
     "data": {
      "image/png": "[encoded data removed]",
      "text/plain": [
       "<Figure size 432x288 with 1 Axes>"
      ]
     },
     "metadata": {},
     "output_type": "display_data"
    }
   ],
   "source": [
    "fig, ax = plt.subplots()\n",
    "COLORS = ['red', 'blue']\n",
    "labels = np.unique(labels_train)\n",
    "for li in range(len(labels)):\n",
    "    x_sub = data_train[labels_train == labels[li]]\n",
    "    ax.scatter(x_sub[:, 0], x_sub[:, 1], c = COLORS[li])\n",
    "    \n",
    "w = svmModel.hyperplane.w\n",
    "b = svmModel.hyperplane.b\n",
    "slope = -w[0] / w[1]\n",
    "intercept = -b / w[1]\n",
    "x = np.arange(0, 6)\n",
    "ax.plot(x, x * slope + intercept, 'k-')"
   ]
  },
  {
   "cell_type": "code",
   "execution_count": 9,
   "metadata": {},
   "outputs": [],
   "source": [
    "#     print(np.shape(K))\n",
    "#     print(np.shape(P))\n",
    "#     print(np.shape(q))\n",
    "#     print(np.shape(G))\n",
    "#     print(np.shape(h))\n",
    "#     print(np.shape(A))\n",
    "#     print(np.shape(b))"
   ]
  }
 ],
 "metadata": {
  "kernelspec": {
   "display_name": "Python 3",
   "language": "python",
   "name": "python3"
  },
  "language_info": {
   "codemirror_mode": {
    "name": "ipython",
    "version": 3
   },
   "file_extension": ".py",
   "mimetype": "text/x-python",
   "name": "python",
   "nbconvert_exporter": "python",
   "pygments_lexer": "ipython3",
   "version": "3.5.5"
  }
 },
 "nbformat": 4,
 "nbformat_minor": 2
}
