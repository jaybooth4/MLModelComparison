{
 "cells": [
  {
   "cell_type": "code",
   "execution_count": 1,
   "metadata": {},
   "outputs": [],
   "source": [
    "import numpy as np\n",
    "from sklearn.model_selection import train_test_split\n",
    "from sklearn.metrics import accuracy_score\n",
    "import time\n",
    "from cvxopt import matrix, solvers\n",
    "import matplotlib.pyplot as plt\n",
    "np.random.seed(1)"
   ]
  },
  {
   "cell_type": "markdown",
   "metadata": {},
   "source": [
    "# Generate Data"
   ]
  },
  {
   "cell_type": "code",
   "execution_count": 2,
   "metadata": {},
   "outputs": [],
   "source": [
    "percentageTest = .2 # percentage of dataset to be designated as the test data\n",
    "\n",
    "# Function to return gaussian data with given means, covariances, and number of points per class\n",
    "# Returns 4 parameters: trainingData, testingData, trainingLabels, testingLabels\n",
    "def generateGaussianData(mean1, mean2, cov1, cov2, pointsPerLabel):\n",
    "    gauss1 = np.random.multivariate_normal(mean1, cov1, pointsPerLabel)\n",
    "    labels1 = np.full((pointsPerLabel, 1), -1, dtype=np.float64)\n",
    "    gauss2 = np.random.multivariate_normal(mean2, cov2, pointsPerLabel)\n",
    "    labels2 = np.full((pointsPerLabel, 1), 1, dtype=np.float64)\n",
    "\n",
    "    dataset = np.concatenate((gauss1, gauss2), axis=0)\n",
    "    labels = np.concatenate((labels1, labels2), axis=0)\n",
    "    \n",
    "    plotRawData(dataset, labels)\n",
    "\n",
    "    return train_test_split(dataset, labels, test_size=percentageTest, random_state=42)"
   ]
  },
  {
   "cell_type": "code",
   "execution_count": 3,
   "metadata": {},
   "outputs": [],
   "source": [
    "# Function to plot the raw data\n",
    "def plotRawData(dataset, labels):\n",
    "    feature1 = dataset[:, 0]\n",
    "    feature2 = dataset[:, 1]\n",
    "    plt.scatter(feature1, feature2, c=labels[:, 0], cmap=plt.cm.coolwarm, s=20)\n",
    "    plt.xlabel('Feature 1')\n",
    "    plt.ylabel('Feature 2')\n",
    "    plt.title(\"Raw Data\")"
   ]
  },
  {
   "cell_type": "code",
   "execution_count": 4,
   "metadata": {},
   "outputs": [
    {
     "data": {
      "image/png": "[encoded data removed]",
      "text/plain": [
       "<Figure size 432x288 with 1 Axes>"
      ]
     },
     "metadata": {},
     "output_type": "display_data"
    }
   ],
   "source": [
    "# Generate Gaussian data\n",
    "mean1 = [0,0]\n",
    "cov1 = [[1,0],[0,1]]\n",
    "mean2 = [3,3]\n",
    "cov2 = [[1,0],[0,1]]\n",
    "dataSize = 50\n",
    "trainingData, testingData, trainingLabels, testingLabels = generateGaussianData(mean1, mean2, cov1, cov2, dataSize)"
   ]
  },
  {
   "cell_type": "markdown",
   "metadata": {},
   "source": [
    "# SVM\n",
    "### Implementation of SVM using\n",
    "- a linear kernel\n",
    "- no slack variables (assumes data is linearly separable)"
   ]
  },
  {
   "cell_type": "code",
   "execution_count": 5,
   "metadata": {},
   "outputs": [],
   "source": [
    "class SVMModel:\n",
    "    \n",
    "    def __init__(self):\n",
    "        pass\n",
    "    \n",
    "    def train(self, trainData, trainLabels):\n",
    "        self.hyperplane = CalculateHyperplane(trainData, trainLabels)\n",
    "        \n",
    "    def test(self, testData, testLabels):\n",
    "        if self.hyperplane is None:\n",
    "            raise RunTimeError('You must train the model before testing')\n",
    "            \n",
    "        predictions = list(map(lambda testDataPoint: SVM(self.hyperplane, testDataPoint), testData))\n",
    "        accuracy = accuracy_score(testLabels.tolist(), predictions)\n",
    "        return accuracy"
   ]
  },
  {
   "cell_type": "markdown",
   "metadata": {},
   "source": [
    "Label calculation is done using the equation:\n",
    "$$label = sign(wx +b)$$"
   ]
  },
  {
   "cell_type": "code",
   "execution_count": 32,
   "metadata": {},
   "outputs": [],
   "source": [
    "# Class representing the hyperplane in SVM model\n",
    "class HyperPlane:\n",
    "    def __init__(self, w, b):\n",
    "        self.w = w\n",
    "        self.b = b\n",
    "    \n",
    "    def calculatePointLabel(self, x):\n",
    "        return 1 if (np.dot(self.w, x) + self.b) > 0 else -1"
   ]
  },
  {
   "cell_type": "markdown",
   "metadata": {},
   "source": [
    "Calcuation of the hyperplane is done by minimizing the lagrangian equation:\n",
    "$$\\begin{eqnarray}\n",
    "\\text{Minimize: } & \\frac{1}{2} w \\cdot w \\\\\n",
    "\\text{Subject to: } & y_i(w \\cdot x_i + b) \\geq 1 \\\\\n",
    "%L_p &= \\frac{1}{2}w\\cdot w - \\sum \\alpha_i(y_i(w \\cdot x_i + b) -1) \\\\\n",
    "\\end{eqnarray}\n",
    "$$\n",
    "\n",
    "These can also be represented by the dual:\n",
    "$$\\begin{eqnarray}\n",
    "\\text{Maximize: } & -\\frac{1}{2} \\alpha^{T}H\\alpha + \\sum_{i=1}^{N} \\alpha_i \\\\\\\n",
    "\\text{or Minimize:} & \\frac{1}{2} \\alpha^{T}H\\alpha - \\sum_{i=1}^{N} \\alpha_i \\\\\\\n",
    "\\text{Subject to: } & \\alpha \\geq 0 \\\\\\\n",
    "\\text{and } & \\sum_{i=1}^{N} y_i \\alpha_{i} = 0 \\\\\\\n",
    "\\text{where } & H_{ij} = y_i y_j x_i x_j\n",
    "\\end{eqnarray}$$"
   ]
  },
  {
   "cell_type": "markdown",
   "metadata": {},
   "source": [
    "The API exposed for the quadratic programming library is in a slightly different form:\n",
    "\n",
    "$$\\begin{eqnarray}\n",
    "\\min_{x}\\frac{1}{2} x^{T}Px - q^{T}x \\nonumber \\\\\\\n",
    "\\textrm{s.t.}\\quad Gx \\preceq h \\\\\\\n",
    "\\textrm{and}\\quad Ax = b\n",
    "\\end{eqnarray}\n",
    "$$"
   ]
  },
  {
   "cell_type": "markdown",
   "metadata": {},
   "source": [
    "To put the parameters in the correct form we must adjust the equation accordingly:\n",
    "\n",
    "$$\\begin{eqnarray}\n",
    "&x = \\alpha \\\\\\ \n",
    "&P = H \\\\\\\n",
    "&q = \\text{array of -1's} \\\\\\ \n",
    "&G = \\text{identity matrix of -1's (flip equality)} \\\\\\\n",
    "&h = \\text{array of 0's } \\\\\\\n",
    "&A = \\text{y}\n",
    "\\end{eqnarray}$$\n",
    "\n",
    "I consulted http://goelhardik.github.io/2016/11/28/svm-cvxopt/ when implementing this function"
   ]
  },
  {
   "cell_type": "code",
   "execution_count": 30,
   "metadata": {},
   "outputs": [],
   "source": [
    "def CalculateHyperplane(trainData, trainLabels):\n",
    "    numPoints = trainData.shape[0]\n",
    "\n",
    "    K = trainLabels * trainData\n",
    "    K = np.dot(K, K.T)\n",
    "    P = matrix(K)\n",
    "    q = matrix(-np.ones((numPoints, 1)))\n",
    "    G = matrix(-np.eye(numPoints))\n",
    "    h = matrix(np.zeros(numPoints))\n",
    "    A = matrix(trainLabels.T)\n",
    "    b = matrix(np.zeros(1))\n",
    "    solvers.options['show_progress'] = False\n",
    "    sol = solvers.qp(P, q, G, h, A, b)\n",
    "    \n",
    "    alphas = np.array(sol['x'])\n",
    "    w = np.sum(alphas * trainLabels * trainData, axis = 0)\n",
    "    supportVector = np.where(alphas > 1e-4)[0][0] # Get index of first support vector\n",
    "    b = trainLabels[supportVector] - np.dot(trainData[supportVector], w)\n",
    "    return HyperPlane(w, b)"
   ]
  },
  {
   "cell_type": "code",
   "execution_count": 8,
   "metadata": {},
   "outputs": [],
   "source": [
    "def SVM(hyperplane, datapoint):\n",
    "    label = hyperplane.calculatePointLabel(datapoint)\n",
    "    return label"
   ]
  },
  {
   "cell_type": "code",
   "execution_count": 47,
   "metadata": {},
   "outputs": [],
   "source": [
    "def plotDecisionBoundary(trainData, trainLabels, hyperplane):\n",
    "    feature1 = trainData[:, 0]\n",
    "    feature2 = trainData[:, 1]\n",
    "    plt.scatter(feature1, feature2, c=trainLabels[:, 0], cmap=plt.cm.coolwarm, s=20)\n",
    "\n",
    "    w = hyperplane.w\n",
    "    b = hyperplane.b\n",
    "    slope = -w[0] / w[1]\n",
    "    intercept = -b / w[1]\n",
    "    x = np.arange(0, 6)\n",
    "    plt.plot(x, x * slope + intercept, 'k-')\n",
    "    plt.xlabel('Feature 1')\n",
    "    plt.ylabel('Feature 2')\n",
    "    plt.title(\"Decision Boundary\")"
   ]
  },
  {
   "cell_type": "code",
   "execution_count": 48,
   "metadata": {},
   "outputs": [
    {
     "name": "stdout",
     "output_type": "stream",
     "text": [
      "1.0\n"
     ]
    },
    {
     "data": {
      "image/png": "[encoded data removed]",
      "text/plain": [
       "<Figure size 432x288 with 1 Axes>"
      ]
     },
     "metadata": {},
     "output_type": "display_data"
    }
   ],
   "source": [
    "svmModel = SVMModel()\n",
    "svmModel.train(trainingData, trainingLabels)\n",
    "print(svmModel.test(testingData, testingLabels))\n",
    "plotDecisionBoundary(trainingData, trainingLabels, svmModel.hyperplane)"
   ]
  },
  {
   "cell_type": "code",
   "execution_count": null,
   "metadata": {},
   "outputs": [],
   "source": []
  }
 ],
 "metadata": {
  "kernelspec": {
   "display_name": "Python 3",
   "language": "python",
   "name": "python3"
  },
  "language_info": {
   "codemirror_mode": {
    "name": "ipython",
    "version": 3
   },
   "file_extension": ".py",
   "mimetype": "text/x-python",
   "name": "python",
   "nbconvert_exporter": "python",
   "pygments_lexer": "ipython3",
   "version": "3.5.5"
  }
 },
 "nbformat": 4,
 "nbformat_minor": 2
}
